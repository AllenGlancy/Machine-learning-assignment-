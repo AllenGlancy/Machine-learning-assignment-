{
 "cells": [
  {
   "cell_type": "markdown",
   "id": "4d53f0eb",
   "metadata": {},
   "source": [
    "# Allen Glancy - 4358685"
   ]
  },
  {
   "cell_type": "markdown",
   "id": "dcb2bb3f",
   "metadata": {},
   "source": [
    "I have made a model to predict the stock price. I have used linear regression, Random forest regression and Lasso Regression.\n",
    "\n",
    "Comparison:\n",
    "Linear Regression:\n",
    "The model has the lowest mean MSE (0.59) among all three models, indicating that, on average, it has the smallest squared difference between actual and predicted values.\n",
    "The standard deviation of MSE (0.72) suggests that the model's performance is relatively consistent across different folds.\n",
    "Random Forest Regression:\n",
    "The model achieves a perfect R-squared value of 1.00, indicating that it explains all the variability in the target variable (at least on the training data).\n",
    "The mean MSE (1.43) is higher than that of Linear Regression, indicating a larger average squared difference between actual and predicted values.\n",
    "Lasso Regression:\n",
    "The model has the highest mean MSE (1.82) among all three models, indicating a larger average squared difference between actual and predicted values.\n",
    "The standard deviation of MSE (2.89) suggests that the model's performance varies significantly across different folds.\n",
    "\n",
    "Performing linear regression, lasso regression, and random forest regression entails certain risks. Linear regression can be sensitive to outliers, assumes a linear relationship between variables, and may overfit without regularization. Lasso regression offers feature selection but might exclude important features and is unstable with highly correlated variables. Selecting the right regularization strength is crucial. Random forest regression is less prone to overfitting but requires careful hyperparameter tuning and can be computationally expensive"
   ]
  },
  {
   "cell_type": "code",
   "execution_count": 1,
   "id": "cb738994",
   "metadata": {},
   "outputs": [],
   "source": [
    "import pandas as pd\n",
    "import numpy as np\n",
    "import matplotlib.pyplot as plt\n",
    "import seaborn as sns\n",
    "from sklearn.model_selection import train_test_split\n",
    "from sklearn.preprocessing import StandardScaler\n",
    "from sklearn.ensemble import RandomForestRegressor\n",
    "from sklearn.metrics import mean_squared_error, r2_score\n",
    "from sklearn.linear_model import Lasso\n",
    "from sklearn.model_selection import cross_val_score\n",
    "from sklearn.model_selection import  GridSearchCV\n",
    "from sklearn.linear_model import LinearRegression"
   ]
  },
  {
   "cell_type": "code",
   "execution_count": 2,
   "id": "3129f2c5",
   "metadata": {},
   "outputs": [
    {
     "data": {
      "text/html": [
       "<div>\n",
       "<style scoped>\n",
       "    .dataframe tbody tr th:only-of-type {\n",
       "        vertical-align: middle;\n",
       "    }\n",
       "\n",
       "    .dataframe tbody tr th {\n",
       "        vertical-align: top;\n",
       "    }\n",
       "\n",
       "    .dataframe thead th {\n",
       "        text-align: right;\n",
       "    }\n",
       "</style>\n",
       "<table border=\"1\" class=\"dataframe\">\n",
       "  <thead>\n",
       "    <tr style=\"text-align: right;\">\n",
       "      <th></th>\n",
       "      <th>Date</th>\n",
       "      <th>Open</th>\n",
       "      <th>High</th>\n",
       "      <th>Low</th>\n",
       "      <th>Close</th>\n",
       "      <th>Volume</th>\n",
       "    </tr>\n",
       "  </thead>\n",
       "  <tbody>\n",
       "    <tr>\n",
       "      <th>0</th>\n",
       "      <td>4/1/2015 16:00:00</td>\n",
       "      <td>40.60</td>\n",
       "      <td>40.76</td>\n",
       "      <td>40.31</td>\n",
       "      <td>40.72</td>\n",
       "      <td>36865322</td>\n",
       "    </tr>\n",
       "    <tr>\n",
       "      <th>1</th>\n",
       "      <td>4/2/2015 16:00:00</td>\n",
       "      <td>40.66</td>\n",
       "      <td>40.74</td>\n",
       "      <td>40.12</td>\n",
       "      <td>40.29</td>\n",
       "      <td>37487476</td>\n",
       "    </tr>\n",
       "    <tr>\n",
       "      <th>2</th>\n",
       "      <td>4/6/2015 16:00:00</td>\n",
       "      <td>40.34</td>\n",
       "      <td>41.78</td>\n",
       "      <td>40.18</td>\n",
       "      <td>41.55</td>\n",
       "      <td>39223692</td>\n",
       "    </tr>\n",
       "    <tr>\n",
       "      <th>3</th>\n",
       "      <td>4/7/2015 16:00:00</td>\n",
       "      <td>41.61</td>\n",
       "      <td>41.91</td>\n",
       "      <td>41.31</td>\n",
       "      <td>41.53</td>\n",
       "      <td>28809375</td>\n",
       "    </tr>\n",
       "    <tr>\n",
       "      <th>4</th>\n",
       "      <td>4/8/2015 16:00:00</td>\n",
       "      <td>41.48</td>\n",
       "      <td>41.69</td>\n",
       "      <td>41.04</td>\n",
       "      <td>41.42</td>\n",
       "      <td>24753438</td>\n",
       "    </tr>\n",
       "  </tbody>\n",
       "</table>\n",
       "</div>"
      ],
      "text/plain": [
       "                Date   Open   High    Low  Close    Volume\n",
       "0  4/1/2015 16:00:00  40.60  40.76  40.31  40.72  36865322\n",
       "1  4/2/2015 16:00:00  40.66  40.74  40.12  40.29  37487476\n",
       "2  4/6/2015 16:00:00  40.34  41.78  40.18  41.55  39223692\n",
       "3  4/7/2015 16:00:00  41.61  41.91  41.31  41.53  28809375\n",
       "4  4/8/2015 16:00:00  41.48  41.69  41.04  41.42  24753438"
      ]
     },
     "execution_count": 2,
     "metadata": {},
     "output_type": "execute_result"
    }
   ],
   "source": [
    "data = pd.read_csv(\"C:/Users/allen/Desktop/Microsoft_Stock.csv\")\n",
    "data.head()"
   ]
  },
  {
   "cell_type": "code",
   "execution_count": 3,
   "id": "5e326978",
   "metadata": {},
   "outputs": [
    {
     "name": "stdout",
     "output_type": "stream",
     "text": [
      "<class 'pandas.core.frame.DataFrame'>\n",
      "RangeIndex: 1511 entries, 0 to 1510\n",
      "Data columns (total 6 columns):\n",
      " #   Column  Non-Null Count  Dtype  \n",
      "---  ------  --------------  -----  \n",
      " 0   Date    1511 non-null   object \n",
      " 1   Open    1511 non-null   float64\n",
      " 2   High    1511 non-null   float64\n",
      " 3   Low     1511 non-null   float64\n",
      " 4   Close   1511 non-null   float64\n",
      " 5   Volume  1511 non-null   int64  \n",
      "dtypes: float64(4), int64(1), object(1)\n",
      "memory usage: 71.0+ KB\n"
     ]
    }
   ],
   "source": [
    "data.info()"
   ]
  },
  {
   "cell_type": "markdown",
   "id": "8d1f44f6",
   "metadata": {},
   "source": [
    "DATA PREPROCESSING"
   ]
  },
  {
   "cell_type": "code",
   "execution_count": 4,
   "id": "3c25205c",
   "metadata": {},
   "outputs": [],
   "source": [
    "# Converting  the 'Date' column to a datetime data type\n",
    "data['Date'] = pd.to_datetime(data['Date'])\n"
   ]
  },
  {
   "cell_type": "code",
   "execution_count": 5,
   "id": "b00bd89c",
   "metadata": {},
   "outputs": [
    {
     "name": "stdout",
     "output_type": "stream",
     "text": [
      "<class 'pandas.core.frame.DataFrame'>\n",
      "RangeIndex: 1511 entries, 0 to 1510\n",
      "Data columns (total 6 columns):\n",
      " #   Column  Non-Null Count  Dtype         \n",
      "---  ------  --------------  -----         \n",
      " 0   Date    1511 non-null   datetime64[ns]\n",
      " 1   Open    1511 non-null   float64       \n",
      " 2   High    1511 non-null   float64       \n",
      " 3   Low     1511 non-null   float64       \n",
      " 4   Close   1511 non-null   float64       \n",
      " 5   Volume  1511 non-null   int64         \n",
      "dtypes: datetime64[ns](1), float64(4), int64(1)\n",
      "memory usage: 71.0 KB\n"
     ]
    }
   ],
   "source": [
    "data.info()"
   ]
  },
  {
   "cell_type": "code",
   "execution_count": 6,
   "id": "9df52703",
   "metadata": {},
   "outputs": [
    {
     "data": {
      "text/plain": [
       "Date      0\n",
       "Open      0\n",
       "High      0\n",
       "Low       0\n",
       "Close     0\n",
       "Volume    0\n",
       "dtype: int64"
      ]
     },
     "execution_count": 6,
     "metadata": {},
     "output_type": "execute_result"
    }
   ],
   "source": [
    "# checking null values\n",
    "data.isnull().sum()\n"
   ]
  },
  {
   "cell_type": "code",
   "execution_count": 7,
   "id": "c1b14302",
   "metadata": {},
   "outputs": [
    {
     "data": {
      "text/html": [
       "<div>\n",
       "<style scoped>\n",
       "    .dataframe tbody tr th:only-of-type {\n",
       "        vertical-align: middle;\n",
       "    }\n",
       "\n",
       "    .dataframe tbody tr th {\n",
       "        vertical-align: top;\n",
       "    }\n",
       "\n",
       "    .dataframe thead th {\n",
       "        text-align: right;\n",
       "    }\n",
       "</style>\n",
       "<table border=\"1\" class=\"dataframe\">\n",
       "  <thead>\n",
       "    <tr style=\"text-align: right;\">\n",
       "      <th></th>\n",
       "      <th>Date</th>\n",
       "      <th>Open</th>\n",
       "      <th>High</th>\n",
       "      <th>Low</th>\n",
       "      <th>Close</th>\n",
       "      <th>Volume</th>\n",
       "    </tr>\n",
       "  </thead>\n",
       "  <tbody>\n",
       "    <tr>\n",
       "      <th>0</th>\n",
       "      <td>2015-04-01 16:00:00</td>\n",
       "      <td>40.60</td>\n",
       "      <td>40.76</td>\n",
       "      <td>40.31</td>\n",
       "      <td>40.72</td>\n",
       "      <td>36865322</td>\n",
       "    </tr>\n",
       "    <tr>\n",
       "      <th>1</th>\n",
       "      <td>2015-04-02 16:00:00</td>\n",
       "      <td>40.66</td>\n",
       "      <td>40.74</td>\n",
       "      <td>40.12</td>\n",
       "      <td>40.29</td>\n",
       "      <td>37487476</td>\n",
       "    </tr>\n",
       "    <tr>\n",
       "      <th>2</th>\n",
       "      <td>2015-04-06 16:00:00</td>\n",
       "      <td>40.34</td>\n",
       "      <td>41.78</td>\n",
       "      <td>40.18</td>\n",
       "      <td>41.55</td>\n",
       "      <td>39223692</td>\n",
       "    </tr>\n",
       "    <tr>\n",
       "      <th>3</th>\n",
       "      <td>2015-04-07 16:00:00</td>\n",
       "      <td>41.61</td>\n",
       "      <td>41.91</td>\n",
       "      <td>41.31</td>\n",
       "      <td>41.53</td>\n",
       "      <td>28809375</td>\n",
       "    </tr>\n",
       "    <tr>\n",
       "      <th>4</th>\n",
       "      <td>2015-04-08 16:00:00</td>\n",
       "      <td>41.48</td>\n",
       "      <td>41.69</td>\n",
       "      <td>41.04</td>\n",
       "      <td>41.42</td>\n",
       "      <td>24753438</td>\n",
       "    </tr>\n",
       "  </tbody>\n",
       "</table>\n",
       "</div>"
      ],
      "text/plain": [
       "                 Date   Open   High    Low  Close    Volume\n",
       "0 2015-04-01 16:00:00  40.60  40.76  40.31  40.72  36865322\n",
       "1 2015-04-02 16:00:00  40.66  40.74  40.12  40.29  37487476\n",
       "2 2015-04-06 16:00:00  40.34  41.78  40.18  41.55  39223692\n",
       "3 2015-04-07 16:00:00  41.61  41.91  41.31  41.53  28809375\n",
       "4 2015-04-08 16:00:00  41.48  41.69  41.04  41.42  24753438"
      ]
     },
     "execution_count": 7,
     "metadata": {},
     "output_type": "execute_result"
    }
   ],
   "source": [
    "data.head()"
   ]
  },
  {
   "cell_type": "code",
   "execution_count": 8,
   "id": "b8105f40",
   "metadata": {},
   "outputs": [],
   "source": [
    "# setting date as index\n",
    "data.set_index('Date', inplace=True)\n"
   ]
  },
  {
   "cell_type": "code",
   "execution_count": 9,
   "id": "17c07020",
   "metadata": {},
   "outputs": [
    {
     "data": {
      "image/png": "[encoded data removed]",
      "text/plain": [
       "<Figure size 1200x600 with 1 Axes>"
      ]
     },
     "metadata": {},
     "output_type": "display_data"
    }
   ],
   "source": [
    "# checking for any outliers\n",
    "plt.figure(figsize=(12, 6))\n",
    "data[['Close', 'Open', 'High', 'Low', 'Volume']].boxplot()\n",
    "plt.title('Box Plot for Outlier Detection')\n",
    "plt.xticks(rotation=45)\n",
    "plt.show()"
   ]
  },
  {
   "cell_type": "markdown",
   "id": "8f367f08",
   "metadata": {},
   "source": [
    "FEATURE ENGINEERING"
   ]
  },
  {
   "cell_type": "markdown",
   "id": "d3b23240",
   "metadata": {},
   "source": [
    "Creating new features from the existing ones that might be relevant for the prediction. \n"
   ]
  },
  {
   "cell_type": "code",
   "execution_count": 10,
   "id": "7628ea0d",
   "metadata": {},
   "outputs": [],
   "source": [
    "# Daily Return (percentage change between consecutive closing prices)\n",
    "data['Daily_Return'] = data['Close'].pct_change()\n",
    "\n",
    "# Moving Averages 7-day and 30-day moving averages\n",
    "data['MA_7'] = data['Close'].rolling(window=7).mean()\n",
    "data['MA_30'] = data['Close'].rolling(window=30).mean()\n",
    "\n",
    "# Volatility \n",
    "data['Volatility'] = data['High'] - data['Low']\n"
   ]
  },
  {
   "cell_type": "markdown",
   "id": "66102a73",
   "metadata": {},
   "source": [
    "\n",
    "By calculating the daily return, moving averages, and volatility, I am creating additional features that can provide valuable insights into the stock's behavior and help make more informed decisions when building predictive models for stock price movements. These features can serve as inputs to your regression model for predicting the closing prices.\n"
   ]
  },
  {
   "cell_type": "code",
   "execution_count": 11,
   "id": "7cc87158",
   "metadata": {},
   "outputs": [
    {
     "data": {
      "text/plain": [
       "Open             0\n",
       "High             0\n",
       "Low              0\n",
       "Close            0\n",
       "Volume           0\n",
       "Daily_Return     1\n",
       "MA_7             6\n",
       "MA_30           29\n",
       "Volatility       0\n",
       "dtype: int64"
      ]
     },
     "execution_count": 11,
     "metadata": {},
     "output_type": "execute_result"
    }
   ],
   "source": [
    "data.isna().sum()"
   ]
  },
  {
   "cell_type": "code",
   "execution_count": 12,
   "id": "4c25fbc8",
   "metadata": {},
   "outputs": [],
   "source": [
    "data = data.sort_values(by='Date')"
   ]
  },
  {
   "cell_type": "code",
   "execution_count": 13,
   "id": "e87551a9",
   "metadata": {},
   "outputs": [],
   "source": [
    "# Impute missing values using forward fill\n",
    "data['Daily_Return'] = data['Daily_Return'].fillna(method='bfill')\n",
    "data['MA_7'] = data['MA_7'].fillna(method='bfill')\n",
    "data['MA_30'] = data['MA_30'].fillna(method='bfill')\n"
   ]
  },
  {
   "cell_type": "code",
   "execution_count": 14,
   "id": "a125653e",
   "metadata": {},
   "outputs": [
    {
     "data": {
      "text/plain": [
       "Open            0\n",
       "High            0\n",
       "Low             0\n",
       "Close           0\n",
       "Volume          0\n",
       "Daily_Return    0\n",
       "MA_7            0\n",
       "MA_30           0\n",
       "Volatility      0\n",
       "dtype: int64"
      ]
     },
     "execution_count": 14,
     "metadata": {},
     "output_type": "execute_result"
    }
   ],
   "source": [
    "data.isna().sum()"
   ]
  },
  {
   "cell_type": "code",
   "execution_count": 15,
   "id": "7bf94951",
   "metadata": {},
   "outputs": [
    {
     "name": "stdout",
     "output_type": "stream",
     "text": [
      "<class 'pandas.core.frame.DataFrame'>\n",
      "DatetimeIndex: 1511 entries, 2015-04-01 16:00:00 to 2021-03-31 16:00:00\n",
      "Data columns (total 9 columns):\n",
      " #   Column        Non-Null Count  Dtype  \n",
      "---  ------        --------------  -----  \n",
      " 0   Open          1511 non-null   float64\n",
      " 1   High          1511 non-null   float64\n",
      " 2   Low           1511 non-null   float64\n",
      " 3   Close         1511 non-null   float64\n",
      " 4   Volume        1511 non-null   int64  \n",
      " 5   Daily_Return  1511 non-null   float64\n",
      " 6   MA_7          1511 non-null   float64\n",
      " 7   MA_30         1511 non-null   float64\n",
      " 8   Volatility    1511 non-null   float64\n",
      "dtypes: float64(8), int64(1)\n",
      "memory usage: 118.0 KB\n"
     ]
    }
   ],
   "source": [
    "data.info()"
   ]
  },
  {
   "cell_type": "code",
   "execution_count": 16,
   "id": "d2fd3610",
   "metadata": {},
   "outputs": [
    {
     "data": {
      "text/html": [
       "<div>\n",
       "<style scoped>\n",
       "    .dataframe tbody tr th:only-of-type {\n",
       "        vertical-align: middle;\n",
       "    }\n",
       "\n",
       "    .dataframe tbody tr th {\n",
       "        vertical-align: top;\n",
       "    }\n",
       "\n",
       "    .dataframe thead th {\n",
       "        text-align: right;\n",
       "    }\n",
       "</style>\n",
       "<table border=\"1\" class=\"dataframe\">\n",
       "  <thead>\n",
       "    <tr style=\"text-align: right;\">\n",
       "      <th></th>\n",
       "      <th>Open</th>\n",
       "      <th>Close</th>\n",
       "      <th>Volume</th>\n",
       "      <th>Daily_Return</th>\n",
       "      <th>MA_7</th>\n",
       "      <th>MA_30</th>\n",
       "      <th>Volatility</th>\n",
       "    </tr>\n",
       "    <tr>\n",
       "      <th>Date</th>\n",
       "      <th></th>\n",
       "      <th></th>\n",
       "      <th></th>\n",
       "      <th></th>\n",
       "      <th></th>\n",
       "      <th></th>\n",
       "      <th></th>\n",
       "    </tr>\n",
       "  </thead>\n",
       "  <tbody>\n",
       "    <tr>\n",
       "      <th>2015-04-01 16:00:00</th>\n",
       "      <td>40.60</td>\n",
       "      <td>40.72</td>\n",
       "      <td>36865322</td>\n",
       "      <td>-0.010560</td>\n",
       "      <td>41.244286</td>\n",
       "      <td>44.679333</td>\n",
       "      <td>0.45</td>\n",
       "    </tr>\n",
       "    <tr>\n",
       "      <th>2015-04-02 16:00:00</th>\n",
       "      <td>40.66</td>\n",
       "      <td>40.29</td>\n",
       "      <td>37487476</td>\n",
       "      <td>-0.010560</td>\n",
       "      <td>41.244286</td>\n",
       "      <td>44.679333</td>\n",
       "      <td>0.62</td>\n",
       "    </tr>\n",
       "    <tr>\n",
       "      <th>2015-04-06 16:00:00</th>\n",
       "      <td>40.34</td>\n",
       "      <td>41.55</td>\n",
       "      <td>39223692</td>\n",
       "      <td>0.031273</td>\n",
       "      <td>41.244286</td>\n",
       "      <td>44.679333</td>\n",
       "      <td>1.60</td>\n",
       "    </tr>\n",
       "    <tr>\n",
       "      <th>2015-04-07 16:00:00</th>\n",
       "      <td>41.61</td>\n",
       "      <td>41.53</td>\n",
       "      <td>28809375</td>\n",
       "      <td>-0.000481</td>\n",
       "      <td>41.244286</td>\n",
       "      <td>44.679333</td>\n",
       "      <td>0.60</td>\n",
       "    </tr>\n",
       "    <tr>\n",
       "      <th>2015-04-08 16:00:00</th>\n",
       "      <td>41.48</td>\n",
       "      <td>41.42</td>\n",
       "      <td>24753438</td>\n",
       "      <td>-0.002649</td>\n",
       "      <td>41.244286</td>\n",
       "      <td>44.679333</td>\n",
       "      <td>0.65</td>\n",
       "    </tr>\n",
       "    <tr>\n",
       "      <th>...</th>\n",
       "      <td>...</td>\n",
       "      <td>...</td>\n",
       "      <td>...</td>\n",
       "      <td>...</td>\n",
       "      <td>...</td>\n",
       "      <td>...</td>\n",
       "      <td>...</td>\n",
       "    </tr>\n",
       "    <tr>\n",
       "      <th>2021-03-25 16:00:00</th>\n",
       "      <td>235.30</td>\n",
       "      <td>232.34</td>\n",
       "      <td>34061853</td>\n",
       "      <td>-0.013251</td>\n",
       "      <td>234.211429</td>\n",
       "      <td>235.367000</td>\n",
       "      <td>5.37</td>\n",
       "    </tr>\n",
       "    <tr>\n",
       "      <th>2021-03-26 16:00:00</th>\n",
       "      <td>231.55</td>\n",
       "      <td>236.48</td>\n",
       "      <td>25479853</td>\n",
       "      <td>0.017819</td>\n",
       "      <td>234.131429</td>\n",
       "      <td>235.100000</td>\n",
       "      <td>5.16</td>\n",
       "    </tr>\n",
       "    <tr>\n",
       "      <th>2021-03-29 16:00:00</th>\n",
       "      <td>236.59</td>\n",
       "      <td>235.24</td>\n",
       "      <td>25227455</td>\n",
       "      <td>-0.005244</td>\n",
       "      <td>234.777143</td>\n",
       "      <td>234.775000</td>\n",
       "      <td>4.92</td>\n",
       "    </tr>\n",
       "    <tr>\n",
       "      <th>2021-03-30 16:00:00</th>\n",
       "      <td>233.53</td>\n",
       "      <td>231.85</td>\n",
       "      <td>24792012</td>\n",
       "      <td>-0.014411</td>\n",
       "      <td>234.991429</td>\n",
       "      <td>234.380000</td>\n",
       "      <td>2.75</td>\n",
       "    </tr>\n",
       "    <tr>\n",
       "      <th>2021-03-31 16:00:00</th>\n",
       "      <td>232.91</td>\n",
       "      <td>235.77</td>\n",
       "      <td>43623471</td>\n",
       "      <td>0.016907</td>\n",
       "      <td>234.960000</td>\n",
       "      <td>234.099000</td>\n",
       "      <td>6.71</td>\n",
       "    </tr>\n",
       "  </tbody>\n",
       "</table>\n",
       "<p>1511 rows × 7 columns</p>\n",
       "</div>"
      ],
      "text/plain": [
       "                       Open   Close    Volume  Daily_Return        MA_7  \\\n",
       "Date                                                                      \n",
       "2015-04-01 16:00:00   40.60   40.72  36865322     -0.010560   41.244286   \n",
       "2015-04-02 16:00:00   40.66   40.29  37487476     -0.010560   41.244286   \n",
       "2015-04-06 16:00:00   40.34   41.55  39223692      0.031273   41.244286   \n",
       "2015-04-07 16:00:00   41.61   41.53  28809375     -0.000481   41.244286   \n",
       "2015-04-08 16:00:00   41.48   41.42  24753438     -0.002649   41.244286   \n",
       "...                     ...     ...       ...           ...         ...   \n",
       "2021-03-25 16:00:00  235.30  232.34  34061853     -0.013251  234.211429   \n",
       "2021-03-26 16:00:00  231.55  236.48  25479853      0.017819  234.131429   \n",
       "2021-03-29 16:00:00  236.59  235.24  25227455     -0.005244  234.777143   \n",
       "2021-03-30 16:00:00  233.53  231.85  24792012     -0.014411  234.991429   \n",
       "2021-03-31 16:00:00  232.91  235.77  43623471      0.016907  234.960000   \n",
       "\n",
       "                          MA_30  Volatility  \n",
       "Date                                         \n",
       "2015-04-01 16:00:00   44.679333        0.45  \n",
       "2015-04-02 16:00:00   44.679333        0.62  \n",
       "2015-04-06 16:00:00   44.679333        1.60  \n",
       "2015-04-07 16:00:00   44.679333        0.60  \n",
       "2015-04-08 16:00:00   44.679333        0.65  \n",
       "...                         ...         ...  \n",
       "2021-03-25 16:00:00  235.367000        5.37  \n",
       "2021-03-26 16:00:00  235.100000        5.16  \n",
       "2021-03-29 16:00:00  234.775000        4.92  \n",
       "2021-03-30 16:00:00  234.380000        2.75  \n",
       "2021-03-31 16:00:00  234.099000        6.71  \n",
       "\n",
       "[1511 rows x 7 columns]"
      ]
     },
     "execution_count": 16,
     "metadata": {},
     "output_type": "execute_result"
    }
   ],
   "source": [
    "# removing High and Low feature \n",
    "data.drop(['High','Low'],axis=1)"
   ]
  },
  {
   "cell_type": "markdown",
   "id": "a99ce64c",
   "metadata": {},
   "source": [
    "MODEL"
   ]
  },
  {
   "cell_type": "code",
   "execution_count": 17,
   "id": "0d67fa00",
   "metadata": {},
   "outputs": [],
   "source": [
    "# Separate features (X) and target (y)\n",
    "X = data.drop('Close', axis=1)\n",
    "y = data['Close']\n",
    "# standarisation \n",
    "scaler = StandardScaler()\n",
    "# Fit and transform the feature data\n",
    "X_scaled = scaler.fit_transform(X)\n",
    "\n",
    "\n",
    "X_train, X_test, y_train, y_test = train_test_split(X_scaled, y, test_size=0.2, random_state=42)\n"
   ]
  },
  {
   "cell_type": "markdown",
   "id": "d310b028",
   "metadata": {},
   "source": [
    "Random Forest Regression"
   ]
  },
  {
   "cell_type": "code",
   "execution_count": 18,
   "id": "7021d177",
   "metadata": {
    "scrolled": true
   },
   "outputs": [
    {
     "name": "stdout",
     "output_type": "stream",
     "text": [
      "Mean Squared Error (MSE): 1.36\n",
      "R-squared (R2): 1.00\n"
     ]
    }
   ],
   "source": [
    "# Creating the Random Forest Regressor model\n",
    "rf_model = RandomForestRegressor(n_estimators=100, random_state=42)\n",
    "rf_model.fit(X_train, y_train)\n",
    "y_pred = rf_model.predict(X_test)\n",
    "mse = mean_squared_error(y_test, y_pred)\n",
    "r2 = r2_score(y_test, y_pred)\n",
    "\n",
    "print(f\"Mean Squared Error (MSE): {mse:.2f}\")\n",
    "print(f\"R-squared (R2): {r2:.2f}\")\n"
   ]
  },
  {
   "cell_type": "code",
   "execution_count": 19,
   "id": "4e34d3a6",
   "metadata": {},
   "outputs": [
    {
     "name": "stdout",
     "output_type": "stream",
     "text": [
      "Mean Squared Error (MSE): 0.42\n",
      "R-squared (R2): 1.00\n"
     ]
    }
   ],
   "source": [
    "#Creating the Linear Regression model\n",
    "lr_model = LinearRegression()\n",
    "lr_model.fit(X_train, y_train)\n",
    "y_pred = lr_model.predict(X_test)\n",
    "mse = mean_squared_error(y_test, y_pred)\n",
    "r2 = r2_score(y_test, y_pred)\n",
    "\n",
    "print(f\"Mean Squared Error (MSE): {mse:.2f}\")\n",
    "print(f\"R-squared (R2): {r2:.2f}\")\n",
    "\n"
   ]
  },
  {
   "cell_type": "code",
   "execution_count": 20,
   "id": "180c6ea4",
   "metadata": {},
   "outputs": [
    {
     "name": "stdout",
     "output_type": "stream",
     "text": [
      "Mean Squared Error (MSE) for Lasso Regression: 0.73\n",
      "R-squared (R2) for Lasso Regression: 1.00\n"
     ]
    },
    {
     "name": "stderr",
     "output_type": "stream",
     "text": [
      "C:\\Users\\allen\\anaconda3\\lib\\site-packages\\sklearn\\linear_model\\_coordinate_descent.py:647: ConvergenceWarning: Objective did not converge. You might want to increase the number of iterations, check the scale of the features or consider increasing regularisation. Duality gap: 6.368e+02, tolerance: 3.939e+02\n",
      "  model = cd_fast.enet_coordinate_descent(\n"
     ]
    }
   ],
   "source": [
    "# Creating the Lasso Regression model\n",
    "alpha = 0.01  \n",
    "lasso_model = Lasso(alpha=alpha)\n",
    "lasso_model.fit(X_train, y_train)\n",
    "y_pred = lasso_model.predict(X_test)\n",
    "mse = mean_squared_error(y_test, y_pred)\n",
    "r2 = r2_score(y_test, y_pred)\n",
    "\n",
    "print(f\"Mean Squared Error (MSE) for Lasso Regression: {mse:.2f}\")\n",
    "print(f\"R-squared (R2) for Lasso Regression: {r2:.2f}\")"
   ]
  },
  {
   "cell_type": "markdown",
   "id": "0eeecd45",
   "metadata": {},
   "source": [
    "Cross Validation"
   ]
  },
  {
   "cell_type": "code",
   "execution_count": 21,
   "id": "a3b49b09",
   "metadata": {},
   "outputs": [
    {
     "name": "stdout",
     "output_type": "stream",
     "text": [
      "Mean Squared Error (MSE) for each fold: [0.3933449461072885, 0.10260060127476654, 0.201996027488004, 0.23237868493027303, 2.013204845449541]\n",
      "Mean MSE: 0.59\n",
      "Standard Deviation of MSE: 0.72\n"
     ]
    }
   ],
   "source": [
    "# Performing k-fold cross-validation\n",
    "num_folds = 5\n",
    "mse_scores = cross_val_score(lr_model, X, y, cv=num_folds, scoring='neg_mean_squared_error')\n",
    "mean_mse = -np.mean(mse_scores)\n",
    "std_mse = np.std(mse_scores)\n",
    "\n",
    "print(f\"Mean Squared Error (MSE) for each fold: {[-mse for mse in mse_scores]}\")\n",
    "print(f\"Mean MSE: {mean_mse:.2f}\")\n",
    "print(f\"Standard Deviation of MSE: {std_mse:.2f}\")"
   ]
  },
  {
   "cell_type": "code",
   "execution_count": 22,
   "id": "fb0e5c71",
   "metadata": {},
   "outputs": [
    {
     "name": "stdout",
     "output_type": "stream",
     "text": [
      "Best Hyperparameters: {'max_depth': 10, 'min_samples_leaf': 2, 'min_samples_split': 2, 'n_estimators': 50}\n",
      "Mean Squared Error (MSE): 1.43\n",
      "R-squared (R2): 1.00\n"
     ]
    }
   ],
   "source": [
    "# Defining the hyperparameter grid to search through\n",
    "param_grid = {\n",
    "    'n_estimators': [50, 100, 200],      \n",
    "    'max_depth': [None, 10, 20],         \n",
    "    'min_samples_split': [2, 5, 10],    \n",
    "    'min_samples_leaf': [1, 2, 4]       \n",
    "}\n",
    "\n",
    "\n",
    "grid_search = GridSearchCV(estimator=rf_model, param_grid=param_grid, cv=5, scoring='neg_mean_squared_error')\n",
    "grid_search.fit(X_train, y_train)\n",
    "best_model = grid_search.best_estimator_\n",
    "y_pred = best_model.predict(X_test)\n",
    "mse = mean_squared_error(y_test, y_pred)\n",
    "r2 = r2_score(y_test, y_pred)\n",
    "\n",
    "print(\"Best Hyperparameters:\", grid_search.best_params_)\n",
    "print(f\"Mean Squared Error (MSE): {mse:.2f}\")\n",
    "print(f\"R-squared (R2): {r2:.2f}\")\n"
   ]
  },
  {
   "cell_type": "code",
   "execution_count": 23,
   "id": "dc3330bf",
   "metadata": {
    "scrolled": true
   },
   "outputs": [
    {
     "name": "stdout",
     "output_type": "stream",
     "text": [
      "Mean Squared Error (MSE) for each fold: [0.2248435545444474, 0.07856995083339417, 0.49451092747463493, 0.7452744524044143, 7.580955018056984]\n",
      "Mean MSE: 1.82\n",
      "Standard Deviation of MSE: 2.89\n"
     ]
    },
    {
     "name": "stderr",
     "output_type": "stream",
     "text": [
      "C:\\Users\\allen\\anaconda3\\lib\\site-packages\\sklearn\\linear_model\\_coordinate_descent.py:647: ConvergenceWarning: Objective did not converge. You might want to increase the number of iterations, check the scale of the features or consider increasing regularisation. Duality gap: 1.237e+03, tolerance: 3.576e+02\n",
      "  model = cd_fast.enet_coordinate_descent(\n",
      "C:\\Users\\allen\\anaconda3\\lib\\site-packages\\sklearn\\linear_model\\_coordinate_descent.py:647: ConvergenceWarning: Objective did not converge. You might want to increase the number of iterations, check the scale of the features or consider increasing regularisation. Duality gap: 1.293e+03, tolerance: 4.099e+02\n",
      "  model = cd_fast.enet_coordinate_descent(\n",
      "C:\\Users\\allen\\anaconda3\\lib\\site-packages\\sklearn\\linear_model\\_coordinate_descent.py:647: ConvergenceWarning: Objective did not converge. You might want to increase the number of iterations, check the scale of the features or consider increasing regularisation. Duality gap: 1.300e+03, tolerance: 4.746e+02\n",
      "  model = cd_fast.enet_coordinate_descent(\n",
      "C:\\Users\\allen\\anaconda3\\lib\\site-packages\\sklearn\\linear_model\\_coordinate_descent.py:647: ConvergenceWarning: Objective did not converge. You might want to increase the number of iterations, check the scale of the features or consider increasing regularisation. Duality gap: 1.264e+03, tolerance: 4.596e+02\n",
      "  model = cd_fast.enet_coordinate_descent(\n",
      "C:\\Users\\allen\\anaconda3\\lib\\site-packages\\sklearn\\linear_model\\_coordinate_descent.py:647: ConvergenceWarning: Objective did not converge. You might want to increase the number of iterations, check the scale of the features or consider increasing regularisation. Duality gap: 4.090e+02, tolerance: 1.274e+02\n",
      "  model = cd_fast.enet_coordinate_descent(\n"
     ]
    }
   ],
   "source": [
    "# Performing k-fold cross-validation \n",
    "num_folds = 5\n",
    "mse_scores = cross_val_score(lasso_model, X, y, cv=num_folds, scoring='neg_mean_squared_error')\n",
    "mean_mse = -np.mean(mse_scores)\n",
    "std_mse = np.std(mse_scores)\n",
    "\n",
    "print(f\"Mean Squared Error (MSE) for each fold: {[-mse for mse in mse_scores]}\")\n",
    "print(f\"Mean MSE: {mean_mse:.2f}\")\n",
    "print(f\"Standard Deviation of MSE: {std_mse:.2f}\")"
   ]
  },
  {
   "cell_type": "markdown",
   "id": "103ff238",
   "metadata": {},
   "source": []
  },
  {
   "cell_type": "markdown",
   "id": "559243dd",
   "metadata": {},
   "source": []
  }
 ],
 "metadata": {
  "kernelspec": {
   "display_name": "Python 3 (ipykernel)",
   "language": "python",
   "name": "python3"
  },
  "language_info": {
   "codemirror_mode": {
    "name": "ipython",
    "version": 3
   },
   "file_extension": ".py",
   "mimetype": "text/x-python",
   "name": "python",
   "nbconvert_exporter": "python",
   "pygments_lexer": "ipython3",
   "version": "3.9.13"
  }
 },
 "nbformat": 4,
 "nbformat_minor": 5
}
